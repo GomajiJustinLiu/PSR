{
 "cells": [
  {
   "cell_type": "markdown",
   "metadata": {
    "id": "1PVr2y-Z50Xg",
    "slideshow": {
     "slide_type": "slide"
    }
   },
   "source": [
    "# PSR"
   ]
  },
  {
   "cell_type": "markdown",
   "metadata": {
    "id": "r3CXM0mj51jD",
    "slideshow": {
     "slide_type": "slide"
    }
   },
   "source": [
    "## 什麼是PSR？"
   ]
  },
  {
   "cell_type": "markdown",
   "metadata": {
    "id": "ErhDhaAZ54-S",
    "slideshow": {
     "slide_type": "subslide"
    }
   },
   "source": [
    "- 是PHP Standard Recommendations的簡稱\n",
    "- 制定者PHP Framework Interoperability Group，簡稱FIG\n",
    "- 官方網站[PHP-FIG](https://www.php-fig.org)\n"
   ]
  },
  {
   "cell_type": "markdown",
   "metadata": {
    "id": "PwBdRzHq6GKv",
    "slideshow": {
     "slide_type": "subslide"
    }
   },
   "source": [
    "## 規格書\n",
    "- 規格書目前共有[19個](https://www.php-fig.org/psr/#numerical-index)\n",
    "- 狀態說明\n",
    "  - Accepted: 通過\n",
    "  - Draft: 草擬中\n",
    "  - Abandoned: 未通過\n",
    "  - Deprecated: 已捨棄"
   ]
  },
  {
   "cell_type": "markdown",
   "metadata": {
    "id": "nxWxQggE6Os0",
    "slideshow": {
     "slide_type": "subslide"
    }
   },
   "source": [
    "## 與一般程式開發最有關的規格"
   ]
  },
  {
   "cell_type": "markdown",
   "metadata": {
    "id": "gRbaXIwn6QnP",
    "slideshow": {
     "slide_type": "subslide"
    }
   },
   "source": [
    "- PSR-1: 基本程式規格\n",
    "- PSR-12: Coding Style\n",
    "- PSR-4: Autoload Standard"
   ]
  },
  {
   "cell_type": "markdown",
   "metadata": {
    "id": "Ja7HSr0Y6V0O",
    "slideshow": {
     "slide_type": "subslide"
    }
   },
   "source": [
    "## 專有名詞解釋"
   ]
  },
  {
   "cell_type": "markdown",
   "metadata": {
    "id": "t-sOryyh6W42",
    "slideshow": {
     "slide_type": "subslide"
    }
   },
   "source": [
    "依照RFC-2119的規定所制定\n",
    "- **MUST**、REQUIRED、SHALL 必須：表示規格中規定一定要遵循的項目\n",
    "- **MUST NOT**、SHALL NOT 一定不可：表示規格中規定一定不要發生的事情\n",
    "- **SHOULD**、RECOMMENDED 建議：這是規格中建議遵守的項目\n",
    "- **SHOULD NOT**、NOT RECOMMENDED 不建議：表示規格書中不建議發生的事情\n",
    "- **MAY**、OPTIONAL 自行決定：規格中並沒有明確規定的"
   ]
  },
  {
   "cell_type": "markdown",
   "metadata": {
    "id": "N2FVothT6cc6",
    "slideshow": {
     "slide_type": "slide"
    }
   },
   "source": [
    "## PSR-1 Basic Coding Standard"
   ]
  },
  {
   "cell_type": "markdown",
   "metadata": {
    "id": "pHbpwHqM6fxy",
    "slideshow": {
     "slide_type": "subslide"
    }
   },
   "source": [
    "### 概觀"
   ]
  },
  {
   "cell_type": "markdown",
   "metadata": {
    "id": "Ac3dCs5L6kIN",
    "slideshow": {
     "slide_type": "subslide"
    }
   },
   "source": [
    "\n",
    "\n",
    "1. 檔案**必須**使用標籤<?php 或是 <?=\n",
    "2. 檔案編碼**必須**使用沒有BOM的UTF-8\n",
    "3. **建議**檔案可以用作宣告符號(symbols)，像是classs、functions、contants等等，或是導致Side Effects副作用(可見下方說明)，但**不建議**同時有兩者出現在同一個檔案中\n",
    "4. Namespace與classes**必須**遵照PSR-4的規定\n",
    "5. Class的命名**必須**遵照「首字大寫的駝峰式」樣式```StudlyCaps```\n",
    "6. Class的常數(Constants)宣告時**必須**全部大寫，且字與字之間以底線連接\n",
    "7. Function或是Method的命名**必須**是「駝峰式命名」```camelCase```"
   ]
  },
  {
   "cell_type": "markdown",
   "metadata": {
    "id": "-lr8fLVq7fWr",
    "slideshow": {
     "slide_type": "subslide"
    }
   },
   "source": [
    "### 特別說明"
   ]
  },
  {
   "cell_type": "markdown",
   "metadata": {
    "id": "63Fs92q67M-5",
    "slideshow": {
     "slide_type": "subslide"
    }
   },
   "source": [
    "#### 什麼是副作用 Side Effects"
   ]
  },
  {
   "cell_type": "markdown",
   "metadata": {
    "id": "fyb6HwI67Pot",
    "slideshow": {
     "slide_type": "fragment"
    }
   },
   "source": [
    "- Side Effects指的是執行邏輯不直接與宣告classs、functions、contants等，只負責import所需檔案相關\n",
    "- 以下行為視為是Side Effects\n",
    "  - 產生輸出\n",
    "  - 明確使用require或include\n",
    "  - 連結外部服務\n",
    "  - 修改ini設定\n",
    "  - 發送錯誤或是例外\n",
    "  - 修改全域變數或是靜態變數\n",
    "  - 讀寫檔案"
   ]
  },
  {
   "cell_type": "markdown",
   "metadata": {
    "id": "xFgwVJ4v7VHY",
    "slideshow": {
     "slide_type": "subslide"
    }
   },
   "source": [
    "- 錯誤例子\n",
    "  ```php\n",
    "  <?php\n",
    "  // side effect: 更改 ini 設定\n",
    "  ini_set('error_reporting', E_ALL);\n",
    "  \n",
    "  // side effect: 引入檔案\n",
    "  include \"file.php\";\n",
    "  \n",
    "  // side effect: 產生輸出\n",
    "  echo \"<html>\\n\";\n",
    "  \n",
    "  // 宣告\n",
    "  function foo()\n",
    "  {\n",
    "      // function body\n",
    "  }\n",
    "  ```"
   ]
  },
  {
   "cell_type": "markdown",
   "metadata": {
    "id": "qhVf5eR27boZ",
    "slideshow": {
     "slide_type": "subslide"
    }
   },
   "source": [
    "- 以下是正確的例子\n",
    "\n",
    "  ```php\n",
    "  <?php\n",
    "  // 宣告\n",
    "  function foo()\n",
    "  {\n",
    "      // function body\n",
    "  }\n",
    "  \n",
    "  // 條件陳述式 *不算是* side effect\n",
    "  if (! function_exists('bar')) {\n",
    "      function bar()\n",
    "      {\n",
    "          // function body\n",
    "      }\n",
    "  }\n",
    "  ```"
   ]
  },
  {
   "cell_type": "markdown",
   "metadata": {
    "id": "8_c3GRfs7mJk",
    "slideshow": {
     "slide_type": "subslide"
    }
   },
   "source": [
    "#### Class、Contant、Function、Property命名規則\n",
    "- Class包含了所有的classes、interfaces、traits"
   ]
  },
  {
   "cell_type": "markdown",
   "metadata": {
    "id": "k4MPzA237qHl",
    "slideshow": {
     "slide_type": "subslide"
    }
   },
   "source": [
    "#### Property命名原則\n",
    "- 可以使用首字大寫的駝峰式命名、或一般的駝峰式命名、底線分隔式命名，但**建議**得在合理的範圍保持一致\n",
    "- 所謂合理的範圍包含vendor-level, package-level, class-level, or method-level"
   ]
  },
  {
   "cell_type": "markdown",
   "metadata": {
    "id": "iyve-uN97zds",
    "slideshow": {
     "slide_type": "slide"
    }
   },
   "source": [
    "## PSR-12 Extended Coding Style"
   ]
  },
  {
   "cell_type": "markdown",
   "metadata": {
    "id": "jNEQ4NFl71NJ",
    "slideshow": {
     "slide_type": "subslide"
    }
   },
   "source": [
    "### 概觀"
   ]
  },
  {
   "cell_type": "markdown",
   "metadata": {
    "id": "CfEEf2Ad74XZ",
    "slideshow": {
     "slide_type": "fragment"
    }
   },
   "source": [
    "#### 基本規範\n",
    "- 要遵照PSR-1"
   ]
  },
  {
   "cell_type": "markdown",
   "metadata": {
    "id": "5zzl-ss-76Di",
    "slideshow": {
     "slide_type": "subslide"
    }
   },
   "source": [
    "#### 檔案\n",
    "- 如果檔案內只包含PHP程式碼，結束標籤```?>```**一定不可**保留"
   ]
  },
  {
   "cell_type": "markdown",
   "metadata": {
    "id": "PaJ3JifG8W8K",
    "slideshow": {
     "slide_type": "subslide"
    }
   },
   "source": [
    "#### 每一行\n",
    "\n",
    "- 每一行程式碼**一定不可**硬性規定長度\n",
    "- 每一行程式碼軟性規定**必須**120個字\n",
    "- 每一行程式碼**不建議**超過80個字元，若超過此長度則**建議**分成多行\n",
    "- 每一行程式碼結尾**一定不可**留空白\n",
    "- 程式碼每一行間可**自行決定**加上空白行以便增加可讀性\n",
    "- 每行程式碼**一定不可**超過一個描述式"
   ]
  },
  {
   "cell_type": "markdown",
   "metadata": {
    "id": "ysDLuoAP8fFq",
    "slideshow": {
     "slide_type": "subslide"
    }
   },
   "source": [
    "#### 縮排\n",
    "\n",
    "- 程式碼縮排**必須**是4個空白鍵，**一定不可**是Tab"
   ]
  },
  {
   "cell_type": "markdown",
   "metadata": {
    "id": "736hFX2X8hFV",
    "slideshow": {
     "slide_type": "subslide"
    }
   },
   "source": [
    "#### 關鍵字與型態\n",
    "\n",
    "- 上述兩者都**必須**小寫\n",
    "- 型態**必須**得使用縮寫，例如boolean必須得使用bool表示，integer用int表示"
   ]
  },
  {
   "cell_type": "markdown",
   "metadata": {
    "id": "4E1eh0TU8k-s",
    "slideshow": {
     "slide_type": "slide"
    }
   },
   "source": [
    "### 宣告語句、Namespace以及Import語句\n",
    "- 區塊**必須**依照以下的順序\n",
    "\n",
    "  - ```<?php```標籤\n",
    "  - 檔案層級的說明文字\n",
    "  - declare statements\n",
    "  - namespace declaration\n",
    "  - class等級的use，必須得是完全的路徑，路徑開頭**一定不可**有反斜線(backslash)\n",
    "  - function等級的use，必須得是完全的路徑，路徑開頭**一定不可**有反斜線(backslash)\n",
    "  - constant等級的use，必須得是完全的路徑，路徑開頭**一定不可**有反斜線(backslash)\n",
    "  - 其他的程式碼\n",
    "\n",
    "- 區塊下方**必須**使用空行作間隔\n",
    "- 區塊內**一定不可**有空行"
   ]
  },
  {
   "cell_type": "markdown",
   "metadata": {
    "id": "O0IiVlma8t2K",
    "slideshow": {
     "slide_type": "subslide"
    }
   },
   "source": [
    "  ```php\n",
    "  <?php\n",
    "  \n",
    "  /**\n",
    "   * This file contains an example of coding styles.\n",
    "   */\n",
    "  \n",
    "  declare(strict_types=1);\n",
    "  \n",
    "  namespace Vendor\\Package;\n",
    "  \n",
    "  use Vendor\\Package\\{ClassA as A, ClassB, ClassC as C};\n",
    "  use Vendor\\Package\\SomeNamespace\\ClassD as D;\n",
    "  use Vendor\\Package\\AnotherNamespace\\ClassE as E;\n",
    "  \n",
    "  use function Vendor\\Package\\{functionA, functionB, functionC};\n",
    "  use function Another\\Vendor\\functionD;\n",
    "  \n",
    "  use const Vendor\\Package\\{CONSTANT_A, CONSTANT_B, CONSTANT_C};\n",
    "  use const Another\\Vendor\\CONSTANT_D;\n",
    "  \n",
    "  /**\n",
    "   * FooBar is an example class.\n",
    "   */\n",
    "  class FooBar\n",
    "  {\n",
    "      // ... additional PHP code ...\n",
    "  }\n",
    "  ```"
   ]
  },
  {
   "cell_type": "markdown",
   "metadata": {
    "id": "2ZP1qRbw9AdC",
    "slideshow": {
     "slide_type": "slide"
    }
   },
   "source": [
    "### Classes、Properties、Method\n",
    "\n",
    "- classes表示所有的class, interface及trait\n",
    "\n",
    "- 結束的大括號**一定不可**在同一行包含任何註解或是其他程式描述(statement)\n",
    "\n",
    "- 建立class時，就算建構子不需要參數，括號**必須**存在\n",
    "\n",
    "  ```php\n",
    "  new Foo();\n",
    "  ```"
   ]
  },
  {
   "cell_type": "markdown",
   "metadata": {
    "id": "itdsGuxM9DnN",
    "slideshow": {
     "slide_type": "subslide"
    }
   },
   "source": [
    "#### extends及implements\n",
    "\n",
    "- 上述兩個**一定**得與class的宣告同一行\n",
    "\n",
    "- 開頭的大括號**一定**得自己一行，並前一行或是接下來一行**一定不可**空行\n",
    "\n",
    "- 結尾的大括號**一定**得自己一行，並前一行**一定不可**空行"
   ]
  },
  {
   "cell_type": "markdown",
   "metadata": {
    "id": "K5jLBK_l9JUw",
    "slideshow": {
     "slide_type": "subslide"
    }
   },
   "source": [
    "  ```php\n",
    "  <?php\n",
    "  \n",
    "  namespace Vendor\\Package;\n",
    "  \n",
    "  use FooClass;\n",
    "  use BarClass as Bar;\n",
    "  use OtherVendor\\OtherPackage\\BazClass;\n",
    "  \n",
    "  class ClassName extends ParentClass implements \\ArrayAccess, \\Countable\n",
    "  {\n",
    "      // constants, properties, methods\n",
    "  }\n",
    "  ```"
   ]
  },
  {
   "cell_type": "markdown",
   "metadata": {
    "id": "iTxz7cvK9ML5",
    "slideshow": {
     "slide_type": "subslide"
    }
   },
   "source": [
    "- implements可以分成多行，每一行都得縮排一次，如此編排時，每一行**一定**只能有一個interface"
   ]
  },
  {
   "cell_type": "markdown",
   "metadata": {
    "id": "pGhK7guQ9RB6",
    "slideshow": {
     "slide_type": "subslide"
    }
   },
   "source": [
    "  ```php\n",
    "  <?php\n",
    "  \n",
    "  namespace Vendor\\Package;\n",
    "  \n",
    "  use FooClass;\n",
    "  use BarClass as Bar;\n",
    "  use OtherVendor\\OtherPackage\\BazClass;\n",
    "  \n",
    "  class ClassName extends ParentClass implements\n",
    "      \\ArrayAccess,\n",
    "      \\Countable,\n",
    "      \\Serializable\n",
    "  {\n",
    "      // constants, properties, methods\n",
    "  }\n",
    "  ```"
   ]
  },
  {
   "cell_type": "markdown",
   "metadata": {
    "id": "9sQTy-Ph9S5h",
    "slideshow": {
     "slide_type": "subslide"
    }
   },
   "source": [
    "#### traits\n",
    "- 使用trait時，```use```的描述**一定**要在class開頭大括號的下一行\n",
    "- 使用到多個trait，每個```use``` trait**一定**要自己一行\n",
    "- 在```use```後沒有其他程式描述 (statement)，class結束的大括號**一定**要在```use```的下一行"
   ]
  },
  {
   "cell_type": "markdown",
   "metadata": {
    "id": "9kxXkzhp9WYL",
    "slideshow": {
     "slide_type": "subslide"
    }
   },
   "source": [
    "  ```php\n",
    "  <?php\n",
    "  \n",
    "  namespace Vendor\\Package;\n",
    "  \n",
    "  use Vendor\\Package\\FirstTrait;\n",
    "  use Vendor\\Package\\SecondTrait;\n",
    "  use Vendor\\Package\\ThirdTrait;\n",
    "  \n",
    "  class ClassName\n",
    "  {\n",
    "      use FirstTrait;\n",
    "      use SecondTrait;\n",
    "      use ThirdTrait;\n",
    "  }\n",
    "  ```"
   ]
  },
  {
   "cell_type": "markdown",
   "metadata": {
    "id": "-p7AK1Ou9qJm",
    "slideshow": {
     "slide_type": "subslide"
    }
   },
   "source": [
    "- 如果有其他程式描述，```use```的下一行**一定**要空行\n",
    "\n",
    "  ```php\n",
    "  <?php\n",
    "  \n",
    "  namespace Vendor\\Package;\n",
    "  \n",
    "  use Vendor\\Package\\FirstTrait;\n",
    "  \n",
    "  class ClassName\n",
    "  {\n",
    "      use FirstTrait;\n",
    "  \n",
    "      private $property;\n",
    "  }\n",
    "  ```"
   ]
  },
  {
   "cell_type": "markdown",
   "metadata": {
    "id": "Zloo_oZo9wyR",
    "slideshow": {
     "slide_type": "subslide"
    }
   },
   "source": [
    "#### 屬性properties及常數constant"
   ]
  },
  {
   "cell_type": "markdown",
   "metadata": {
    "id": "UBbVkgvk93Du",
    "slideshow": {
     "slide_type": "subslide"
    }
   },
   "source": [
    "- 所有的屬性**一定**要宣告能見度\n",
    "\n",
    "- 有支援常數能見度的PHP版本開始 (php >= 7.1)，所有常數**一定**要宣告能見度\n",
    "\n",
    "- 屬性**一定不能**使用```var```\n",
    "\n",
    "- 每個描述**一定不能**宣告超過1個屬性\n",
    "\n",
    "- 屬性的命名**一定不能**用單一底線來表示能見度為protected或private，單一底線命名沒有特別意義\n",
    "\n",
    "- 在屬性的型態和名稱間**一定**要有空格"
   ]
  },
  {
   "cell_type": "markdown",
   "metadata": {
    "id": "qB3CM0hS941u",
    "slideshow": {
     "slide_type": "subslide"
    }
   },
   "source": [
    "  ```php\n",
    "  <?php\n",
    "  \n",
    "  namespace Vendor\\Package;\n",
    "  \n",
    "  class ClassName\n",
    "  {\n",
    "      public $foo = null;\n",
    "      public static int $bar = 0;\n",
    "  }\n",
    "  ```"
   ]
  },
  {
   "cell_type": "markdown",
   "metadata": {
    "id": "4x9DXIZ8-ED8",
    "slideshow": {
     "slide_type": "subslide"
    }
   },
   "source": [
    "#### 函式function及方法method"
   ]
  },
  {
   "cell_type": "markdown",
   "metadata": {
    "id": "oalnGLUp-GUu",
    "slideshow": {
     "slide_type": "subslide"
    }
   },
   "source": [
    "- 所有的方法**一定**要加上能見度\n",
    "\n",
    "- 方法的命名**一定不能**使用底線開頭來表示能見度為protected或private\n",
    "\n",
    "- 方法或函式的名稱後**一定不能**加上空白\n",
    "\n",
    "- 方法或函式開頭及結束的大括號**一定**自己一行\n",
    "\n",
    "- 方法或函式名稱後方的開頭括號後或結尾括號前**一定不能**有空格"
   ]
  },
  {
   "cell_type": "markdown",
   "metadata": {
    "id": "R2dv3A6a-JDn",
    "slideshow": {
     "slide_type": "subslide"
    }
   },
   "source": [
    "  ```php\n",
    "  <?php\n",
    "  \n",
    "  namespace Vendor\\Package;\n",
    "  \n",
    "  class ClassName\n",
    "  {\n",
    "      public function fooBarBaz($arg1, &$arg2, $arg3 = [])\n",
    "      {\n",
    "          // method body\n",
    "      }\n",
    "  }\n",
    "  ```"
   ]
  },
  {
   "cell_type": "markdown",
   "metadata": {
    "id": "-P-ISV3I-i9J",
    "slideshow": {
     "slide_type": "subslide"
    }
   },
   "source": [
    "#### 函式function及方法method的參數arguments\n",
    "\n",
    "- 多參數時，參數與逗號間**一定不可**有空格，逗號後**一定**要接空格"
   ]
  },
  {
   "cell_type": "markdown",
   "metadata": {
    "id": "WUpVVHmo-jw2",
    "slideshow": {
     "slide_type": "subslide"
    }
   },
   "source": [
    "  ```php\n",
    "  <?php\n",
    "  \n",
    "  namespace Vendor\\Package;\n",
    "  \n",
    "  class ClassName\n",
    "  {\n",
    "      public function foo(int $arg1, &$arg2, $arg3 = [])\n",
    "      {\n",
    "          // method body\n",
    "      }\n",
    "  }\n",
    "  ```"
   ]
  },
  {
   "cell_type": "markdown",
   "metadata": {
    "id": "CyBvTOMB-tA_",
    "slideshow": {
     "slide_type": "subslide"
    }
   },
   "source": [
    "- 參數如果跨多行，接下來每行都縮排一次，並且第一個參數**一定**要在下一行，接下來每一行**一定**只有一個參數\n",
    "\n",
    "- 參數如果跨多行，函式或方法的結尾括號與開頭的大括號**一定**要同一行，且中間以一個空格間隔"
   ]
  },
  {
   "cell_type": "markdown",
   "metadata": {
    "id": "T91eAKGr-xcS",
    "slideshow": {
     "slide_type": "subslide"
    }
   },
   "source": [
    "  ```php\n",
    "  <?php\n",
    "  \n",
    "  namespace Vendor\\Package;\n",
    "  \n",
    "  class ClassName\n",
    "  {\n",
    "      public function aVeryLongMethodName(\n",
    "          ClassTypeHint $arg1,\n",
    "          &$arg2,\n",
    "          array $arg3 = []\n",
    "      ) {\n",
    "          // method body\n",
    "      }\n",
    "  }\n",
    "  ```"
   ]
  },
  {
   "cell_type": "markdown",
   "metadata": {
    "id": "tYoZlCB_-2f5",
    "slideshow": {
     "slide_type": "subslide"
    }
   },
   "source": [
    "- 函數或方法有回傳值，回傳型態與冒號之間**一定**空一格\n",
    "- 冒號與回傳值還有函數結尾的括號**一定**要在同一行，且冒號與括號**一定不能**有空格"
   ]
  },
  {
   "cell_type": "markdown",
   "metadata": {
    "id": "9ZOGMHqI-6uv",
    "slideshow": {
     "slide_type": "subslide"
    }
   },
   "source": [
    "  ```php\n",
    "  <?php\n",
    "  \n",
    "  declare(strict_types=1);\n",
    "  \n",
    "  namespace Vendor\\Package;\n",
    "  \n",
    "  class ReturnTypeVariations\n",
    "  {\n",
    "      public function functionName(int $arg1, $arg2): string\n",
    "      {\n",
    "          return 'foo';\n",
    "      }\n",
    "  \n",
    "      public function anotherFunction(\n",
    "          string $foo,\n",
    "          string $bar,\n",
    "          int $baz\n",
    "      ): string {\n",
    "          return 'foo';\n",
    "      }\n",
    "  }\n",
    "  ```"
   ]
  },
  {
   "cell_type": "markdown",
   "metadata": {
    "id": "x1GIpryG_CWZ",
    "slideshow": {
     "slide_type": "subslide"
    }
   },
   "source": [
    "#### abstract final static\n",
    "- ```abstract```與```final```**一定**要放在能見度宣告之前\n",
    "\n",
    "- ```static```**一定**要放在能見度宣告之後"
   ]
  },
  {
   "cell_type": "markdown",
   "metadata": {
    "id": "W6WNU2Hb_FaN",
    "slideshow": {
     "slide_type": "subslide"
    }
   },
   "source": [
    "  ```php\n",
    "  <?php\n",
    "  \n",
    "  namespace Vendor\\Package;\n",
    "  \n",
    "  abstract class ClassName\n",
    "  {\n",
    "      protected static $foo;\n",
    "  \n",
    "      abstract protected function zim();\n",
    "  \n",
    "      final public static function bar()\n",
    "      {\n",
    "          // method body\n",
    "      }\n",
    "  }\n",
    "  ```"
   ]
  },
  {
   "cell_type": "markdown",
   "metadata": {
    "id": "pKsyyUIi_JIm",
    "slideshow": {
     "slide_type": "subslide"
    }
   },
   "source": [
    "####呼叫函式function及方法method\n",
    "```php\n",
    "<?php  \n",
    "  \n",
    "bar();\n",
    "Foo::bar($arg2, $arg3);\n",
    "$foo->bar($arg1);\n",
    "$foo->bar(\n",
    "    $longArgument,\n",
    "    $longerArgument,\n",
    "    $muchLongerArgument\n",
    ");\n",
    "somefunction($foo, $bar, [\n",
    "// ...\n",
    "], $baz);\n",
    "```"
   ]
  },
  {
   "cell_type": "markdown",
   "metadata": {
    "id": "GnucVECb_wkZ",
    "slideshow": {
     "slide_type": "slide"
    }
   },
   "source": [
    "### 流程結構 Control Structure"
   ]
  },
  {
   "cell_type": "markdown",
   "metadata": {
    "id": "46k5QSny_x_c",
    "slideshow": {
     "slide_type": "subslide"
    }
   },
   "source": [
    "#### if elseif else\n",
    "- ```else```與```elseif```必須得與前一個的結尾大括號同一行\n",
    "\n",
    "- ```elseif```**建議**要寫成```elseif```，而非```else if```"
   ]
  },
  {
   "cell_type": "markdown",
   "metadata": {
    "id": "TKuksbQ7_5tI",
    "slideshow": {
     "slide_type": "subslide"
    }
   },
   "source": [
    "```php\n",
    "  <?php\n",
    "  \n",
    "  if ($expr1) {\n",
    "      // if body\n",
    "  } elseif ($expr2) {\n",
    "      // elseif body\n",
    "  } else {\n",
    "      // else body;\n",
    "  }\n",
    "```"
   ]
  },
  {
   "cell_type": "markdown",
   "metadata": {
    "id": "XxIz7HhRAEOQ",
    "slideshow": {
     "slide_type": "subslide"
    }
   },
   "source": [
    "- 在括號中的描述式也許會分成多行，每一行都需要縮排至少一次。第一個條件是**一定**要在下一行，且結尾的括號與開頭的大括號**一定**要擺在一起，且中間以一個空格分開。在不同條件式間的布林運算子**一定**要在開頭或是結尾，不能有時候在開頭，有時候在結尾"
   ]
  },
  {
   "cell_type": "markdown",
   "metadata": {
    "id": "He_S9pDyAF2w",
    "slideshow": {
     "slide_type": "subslide"
    }
   },
   "source": [
    "  ```php\n",
    "  <?php\n",
    "  \n",
    "  if (\n",
    "      $expr1\n",
    "      && $expr2\n",
    "  ) {\n",
    "      // if body\n",
    "  } elseif (\n",
    "      $expr3\n",
    "      && $expr4\n",
    "  ) {\n",
    "      // elseif body\n",
    "  }\n",
    "  ```"
   ]
  },
  {
   "cell_type": "markdown",
   "metadata": {
    "id": "edOYwRwjAJ69",
    "slideshow": {
     "slide_type": "subslide"
    }
   },
   "source": [
    "#### switch case\n",
    "- ```case```相對於```switch```**一定**要做一次縮排\n",
    "\n",
    "- ```break```或其他終結的關鍵字**一定**要縮排到與```case```同階層\n",
    "\n",
    "- 如果```case```有執行的項目但沒有```break```，**一定**要加上註解```// no break```\n",
    "\n",
    "- 如果```switch```的表達式有多行，就和```if```相同 (可看之前的if條件式說明)"
   ]
  },
  {
   "cell_type": "markdown",
   "metadata": {
    "id": "CAJC6e4-AP-D",
    "slideshow": {
     "slide_type": "subslide"
    }
   },
   "source": [
    "  ```php\n",
    "  <?php\n",
    "  \n",
    "  switch ($expr) {\n",
    "      case 0:\n",
    "          echo 'First case, with a break';\n",
    "          break;\n",
    "      case 1:\n",
    "          echo 'Second case, which falls through';\n",
    "          // no break\n",
    "      case 2:\n",
    "      case 3:\n",
    "      case 4:\n",
    "          echo 'Third case, return instead of break';\n",
    "          return;\n",
    "      default:\n",
    "          echo 'Default case';\n",
    "          break;\n",
    "  }\n",
    "  ```"
   ]
  },
  {
   "cell_type": "markdown",
   "metadata": {
    "id": "IaA5zBxdAb5T",
    "slideshow": {
     "slide_type": "subslide"
    }
   },
   "source": [
    "#### while do while\n",
    "  ```php\n",
    "  <?php\n",
    "  \n",
    "  while ($expr) {\n",
    "      // structure body\n",
    "  }\n",
    "  ```\n",
    "\n",
    "  ```php\n",
    "  <?php\n",
    "  \n",
    "  do {\n",
    "      // structure body;\n",
    "  } while (\n",
    "      $expr1\n",
    "      && $expr2\n",
    "  );\n",
    "  ```"
   ]
  },
  {
   "cell_type": "markdown",
   "metadata": {
    "id": "4o7y8f92AoFN",
    "slideshow": {
     "slide_type": "subslide"
    }
   },
   "source": [
    "#### for\n",
    "```php\n",
    "<?php\n",
    "  \n",
    "for ($i = 0; $i < 10; $i++) {\n",
    "    // for body\n",
    "}\n",
    "```\n",
    "\n",
    "```php\n",
    "<?php\n",
    "  \n",
    "for (\n",
    "    $i = 0;\n",
    "    $i < 10;\n",
    "    $i++\n",
    ") {\n",
    "    // for body\n",
    "}\n",
    "```"
   ]
  },
  {
   "cell_type": "markdown",
   "metadata": {
    "id": "OBSWSbAGA0FH",
    "slideshow": {
     "slide_type": "subslide"
    }
   },
   "source": [
    "#### foreach\n",
    "```php\n",
    "<?php\n",
    "  \n",
    "foreach ($iterable as $key => $value) {\n",
    "    // foreach body\n",
    "}\n",
    "```"
   ]
  },
  {
   "cell_type": "markdown",
   "metadata": {
    "id": "IcTuAhRkA7Z1",
    "slideshow": {
     "slide_type": "subslide"
    }
   },
   "source": [
    "#### try catch finally\n",
    "```php\n",
    "<?php\n",
    "\n",
    "try {\n",
    "    // try body\n",
    "} catch (FirstThrowableType $e) {\n",
    "    // catch body\n",
    "} catch (OtherThrowableType | AnotherThrowableType $e) {\n",
    "    // catch body\n",
    "} finally {\n",
    "    // finally body\n",
    "}\n",
    "```"
   ]
  },
  {
   "cell_type": "markdown",
   "metadata": {
    "id": "6xPUyZC3BCWH",
    "slideshow": {
     "slide_type": "slide"
    }
   },
   "source": [
    "### 運算子 Operators"
   ]
  },
  {
   "cell_type": "markdown",
   "metadata": {
    "id": "hKxpgR0OBEcB",
    "slideshow": {
     "slide_type": "subslide"
    }
   },
   "source": [
    "#### 一元運算子 Unary operators\n",
    "  ```php\n",
    "  $i++;\n",
    "  ++$j;\n",
    "  ```\n",
    "\n",
    "  ```php\n",
    "  $intValue = (int) $input;\n",
    "  ```"
   ]
  },
  {
   "cell_type": "markdown",
   "metadata": {
    "id": "dNV9qG3ZBKD7",
    "slideshow": {
     "slide_type": "subslide"
    }
   },
   "source": [
    "#### 二元運算子 Binary operators\n",
    "   ```php\n",
    "  if ($a === $b) {\n",
    "      $foo = $bar ?? $a ?? $b;\n",
    "  } elseif ($a > $b) {\n",
    "      $foo = $a + $b * $c;\n",
    "  }\n",
    "  ```"
   ]
  },
  {
   "cell_type": "markdown",
   "metadata": {
    "id": "UoipICRkBOlp",
    "slideshow": {
     "slide_type": "subslide"
    }
   },
   "source": [
    "#### 三元運算子 Ternary operators\n",
    "  ```php\n",
    "  $variable = $foo ? 'foo' : 'bar';\n",
    "  ```"
   ]
  },
  {
   "cell_type": "markdown",
   "metadata": {
    "id": "_yfG0NbBBRQb",
    "slideshow": {
     "slide_type": "slide"
    }
   },
   "source": [
    "### 閉包Closures\n",
    "- 閉包的宣告，在```function```後**一定**要留空格，在```use```前後也**一定**要留空格\n",
    "- 開始的大括號**一定**要同一行，結束的大括號**一定**要下一行\n",
    "- 如果有回傳值，規定如同一般的function一樣"
   ]
  },
  {
   "cell_type": "markdown",
   "metadata": {
    "id": "-T4LKkXpBgvz",
    "slideshow": {
     "slide_type": "subslide"
    }
   },
   "source": [
    "```php\n",
    "<?php\n",
    "  \n",
    "$closureWithArgs = function ($arg1, $arg2) {\n",
    "    // body\n",
    "};\n",
    "\n",
    "$closureWithArgsAndVars = function ($arg1, $arg2) use ($var1, $var2) {\n",
    "    // body\n",
    "};\n",
    "\n",
    "$closureWithArgsVarsAndReturn = function ($arg1, $arg2) use ($var1, $var2): bool {\n",
    "    // body\n",
    "};\n",
    "\n",
    "$longArgs_longVars = function (\n",
    "    $longArgument,\n",
    "    $longerArgument,\n",
    "    $muchLongerArgument\n",
    ") use (\n",
    "    $longVar1,\n",
    "    $longerVar2,\n",
    "    $muchLongerVar3\n",
    ") {\n",
    "    // body\n",
    "};\n",
    "```"
   ]
  },
  {
   "cell_type": "markdown",
   "metadata": {
    "id": "Nocj00oBBuyW",
    "slideshow": {
     "slide_type": "subslide"
    }
   },
   "source": [
    "- 如果呼叫函數時直接使用閉包，呈現如下\n",
    "  ```php\n",
    "  <?php\n",
    "  \n",
    "  $foo->bar(\n",
    "      $arg1,\n",
    "      function ($arg2) use ($var1) {\n",
    "          // body\n",
    "      },\n",
    "      $arg3\n",
    "  );\n",
    "  ```"
   ]
  },
  {
   "cell_type": "markdown",
   "metadata": {
    "id": "Ea27nDPQBzmr",
    "slideshow": {
     "slide_type": "slide"
    }
   },
   "source": [
    "### 匿名類別 Anonymous Classes\n",
    "```php\n",
    "<?php\n",
    "\n",
    "$instance = new class {};\n",
    "```"
   ]
  },
  {
   "cell_type": "markdown",
   "metadata": {
    "id": "GPj-QTDpB7z6",
    "slideshow": {
     "slide_type": "subslide"
    }
   },
   "source": [
    "```php\n",
    "<?php\n",
    "\n",
    "// Brace on the same line\n",
    "$instance = new class extends \\Foo implements \\HandleableInterface {\n",
    "    // Class content\n",
    "};\n",
    "\n",
    "// Brace on the next line\n",
    "$instance = new class extends \\Foo implements\n",
    "    \\ArrayAccess,\n",
    "    \\Countable,\n",
    "    \\Serializable\n",
    "{\n",
    "    // Class content\n",
    "};\n",
    "```"
   ]
  },
  {
   "cell_type": "markdown",
   "metadata": {
    "id": "lkd8yUrdCEhv",
    "slideshow": {
     "slide_type": "slide"
    }
   },
   "source": [
    "## PSR-4 Autoloader"
   ]
  },
  {
   "cell_type": "markdown",
   "metadata": {
    "id": "afhprWsGCGtt",
    "slideshow": {
     "slide_type": "subslide"
    }
   },
   "source": [
    "### 規格\n",
    "\n",
    "- 以下class的關鍵字指的包含全部的class、interface、trait以及類似的結構"
   ]
  },
  {
   "cell_type": "markdown",
   "metadata": {
    "id": "c6_oLF2jCOAR",
    "slideshow": {
     "slide_type": "subslide"
    }
   },
   "source": [
    "- 一個完全合格的class name呈現如以下形式\n",
    "\n",
    "  ```\\<NamespaceName>(\\<SubNamespaceNames>)*\\<ClassName>```\n",
    "\n",
    "  - 完全合格的class name**一定**有最高層級的namespace，或稱為熟知的vendor namespace\n",
    "  - 完全合格的class name可以有一個到多個的次級namespace (sub-namespace)\n",
    "  - 完全合格的class name**一定**要包含結束的class name\n",
    "  - 完全合格的class name中，底線並沒有特殊的意義\n",
    "  - 完全合格的class name中，字母使用大寫和小寫的組合皆可\n",
    "  - 所有的class name**一定**要將大小寫視為不同"
   ]
  },
  {
   "cell_type": "markdown",
   "metadata": {
    "id": "4Gxq0fIZCUaD",
    "slideshow": {
     "slide_type": "subslide"
    }
   },
   "source": [
    "### 例子\n",
    "| 完全合格的class name         | namespace prefix | base directory         |            resulting file path            |\n",
    "    | ---------------------------- | ---------------- | ---------------------- | :---------------------------------------: |\n",
    "    | \\Acme\\Log\\Writer\\File_Writer | Acme\\Log\\Writer  | ./acme-log-writer/lib/ |   ./acme-log-writer/lib/File_Writer.php   |\n",
    "    | \\Aura\\Web\\Response\\Status    | Aura\\Web         | /path/to/aura-web/src/ | /path/to/aura-web/src/Response/Status.php |\n",
    "    | \\Symfony\\Core\\Request        | Symfony\\Core     | ./vendor/Symfony/Core/ |     ./vendor/Symfony/Core/Request.php     |\n",
    "    | \\Zend\\Acl                    | Zend             | /usr/includes/Zend/    |        /usr/includes/Zend/Acl.php         |\n",
    "\n",
    "\n"
   ]
  }
 ],
 "metadata": {
  "celltoolbar": "Slideshow",
  "colab": {
   "name": "PSR.ipynb",
   "provenance": [],
   "toc_visible": true
  },
  "kernelspec": {
   "display_name": "Python 3",
   "language": "python",
   "name": "python3"
  },
  "language_info": {
   "codemirror_mode": {
    "name": "ipython",
    "version": 3
   },
   "file_extension": ".py",
   "mimetype": "text/x-python",
   "name": "python",
   "nbconvert_exporter": "python",
   "pygments_lexer": "ipython3",
   "version": "3.8.3"
  }
 },
 "nbformat": 4,
 "nbformat_minor": 1
}
